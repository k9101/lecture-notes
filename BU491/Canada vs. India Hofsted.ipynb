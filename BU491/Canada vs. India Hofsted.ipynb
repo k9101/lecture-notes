{
 "cells": [
  {
   "cell_type": "code",
   "execution_count": 1,
   "metadata": {
    "collapsed": true
   },
   "outputs": [],
   "source": [
    "#%   matplotlib inline\n",
    "\n",
    "# Data from - http://www.internetlivestats.com/internet-users/tunisia/\n",
    "import matplotlib.pyplot as plt\n",
    "import pandas as pd\n",
    "import numpy as np\n",
    "import seaborn as sns\n",
    "\n",
    "sns.set(style=\"whitegrid\")\n",
    "sns.set_palette(sns.color_palette(\"muted\", 10))"
   ]
  },
  {
   "cell_type": "code",
   "execution_count": 3,
   "metadata": {},
   "outputs": [
    {
     "data": {
      "text/plain": [
       "<matplotlib.axes._subplots.AxesSubplot at 0x10c2816d8>"
      ]
     },
     "execution_count": 3,
     "metadata": {},
     "output_type": "execute_result"
    }
   ],
   "source": [
    "df = pd.DataFrame({ \"Canada\": {\n",
    "    \"Power Distance\": 39,\n",
    "    \"Individualism\": 80,\n",
    "    \"Masculinity\": 52,\n",
    "    \"Uncertainty Avoidance\": 48,\n",
    "    \"Pragmatism\": 36\n",
    "}})\n",
    "\n",
    "df2 = pd.DataFrame({ \"India\": {\n",
    "    \"Power Distance\": 77,\n",
    "    \"Individualism\": 43,\n",
    "    \"Masculinity\": 56,\n",
    "    \"Uncertainty Avoidance\": 40,\n",
    "    \"Pragmatism\": 51\n",
    "}})\n",
    "\n",
    "df = pd.concat([df, df2], axis=1)\n",
    "df.reset_index()\n",
    "df.plot.bar()"
   ]
  },
  {
   "cell_type": "code",
   "execution_count": null,
   "metadata": {
    "collapsed": true
   },
   "outputs": [],
   "source": []
  }
 ],
 "metadata": {
  "kernelspec": {
   "display_name": "Python 3",
   "language": "python",
   "name": "python3"
  },
  "language_info": {
   "codemirror_mode": {
    "name": "ipython",
    "version": 3
   },
   "file_extension": ".py",
   "mimetype": "text/x-python",
   "name": "python",
   "nbconvert_exporter": "python",
   "pygments_lexer": "ipython3",
   "version": "3.6.1"
  }
 },
 "nbformat": 4,
 "nbformat_minor": 2
}
