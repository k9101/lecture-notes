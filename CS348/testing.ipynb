{
 "cells": [
  {
   "cell_type": "markdown",
   "metadata": {},
   "source": [
    "# Lecture 3ish? - May 15, 2017\n",
    "\n",
    "## How do we ask questions\n",
    "- **Note**: A query could be valid, but the information is determined by what's in the table\n",
    "- If the data is bad, the results will be bad\n",
    "- The database itself has no idea what the context actually is.\n",
    "\n",
    "## The Relational Model\n",
    "- Signature == Schema\n",
    "  - A list of all of the relations\n",
    "- Instance\n",
    "  - Contains the domain / universe\n",
    "  - All possible values that you can talk about\n",
    "  - The system doesn't understand the values\n",
    "    - If you uniformly change information everywhere (ex. ids), the system won't notice.\n",
    "\n",
    "## Queries\n",
    "Complex queries can be built from many simple ones using logical connectives and quantifiers\n",
    "\n",
    "### ShortHand:\n",
    "$\\{ (x, y) | x^2 + y^2 = 1 \\}$\n",
    "\n",
    "### Formally\n",
    "$\\{ (x, y) | \\exists z, w. TIMES(x, x, z) AND TIMES(y, y, w) AND PLUS(z, w, 1) \\}$\n",
    "{ ANSWER | QUERY }\n",
    "\n",
    "### Answer Tuples\n",
    "- An answer tuple for Q assign values to Q's free variables\n",
    "- An answer to a query, Q, is the set of all answer tuples that satify the query.\n",
    "\n",
    "### A1\n",
    "- Assignment 1 will probably include translations / query generations\n",
    "\n",
    "### Modify Data in a table\n",
    "- Just exchanging the instances\n",
    "\n",
    "### Integrity Constraints\n",
    "- Set of constraints that define if a database instance is valid\n",
    "\n",
    "### Views\n",
    "- Answers to queries can be used to define derived relations (views)\n",
    "- Exted a DB schema\n",
    "- **Example**\n",
    "  - Boss(z) = ${z | Exists x, y st. EMP(x, y, z) }$\n",
    "  - For all z, Boss(z) <-> (Exists x, y st. EMP(x, y, z)))\n",
    "\n",
    "### Safe Queries\n",
    "- Databases cannot be infinite\n",
    "- Cannot allow infinite queries\n",
    "- **Range Restricted Queries**\n",
    "  - Restrict the query language\n",
    "  - at least one of the variables must be a variable of the query\n",
    "  - At junctions (OR, AND NOT), answer vaiables must be the same (union compatability)\n",
    "  - A negation is applied to a positive query (which is finite) and just reduces the space.\n",
    "\n"
   ]
  }
 ],
 "metadata": {
  "kernelspec": {
   "display_name": "Python 2",
   "language": "python",
   "name": "python2"
  },
  "language_info": {
   "codemirror_mode": {
    "name": "ipython",
    "version": 2
   },
   "file_extension": ".py",
   "mimetype": "text/x-python",
   "name": "python",
   "nbconvert_exporter": "python",
   "pygments_lexer": "ipython2",
   "version": "2.7.12"
  }
 },
 "nbformat": 4,
 "nbformat_minor": 0
}
