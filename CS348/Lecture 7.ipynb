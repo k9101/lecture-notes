{
 "cells": [
  {
   "cell_type": "markdown",
   "metadata": {},
   "source": [
    "# Lecture 7 - May 29, 2017\n",
    "On A1 if any ambiguity, write down your assumptions \n",
    "\n",
    "$$Q_1 \\text{ UNION } Q_2 \\implies \\lor$$\n",
    "$$Q_1 \\text{ EXCEPT } Q_2 \\implies \\land\\neg$$\n",
    "\n",
    "### Slide 67 Example\n",
    "```sql\n",
    "SELECT r.author, sum(r.p) as pages\n",
    "FROM (SELECT author, endpage - startpage - 1 as p\n",
    "        FROM wrote, article\n",
    "        WHERE publication = pubid) r\n",
    "GROUP BY r.author\n",
    "```\n",
    "\n",
    "### Having Clause\n",
    "A where condition of the `GROUP BY` statement (aggregates)\n",
    "\n",
    "### Slide 69 Example\n",
    "```sql\n",
    "SELECT r.publication, r.c\n",
    "FROM (\n",
    "    SELECT publication, count(author) as c\n",
    ") r\n",
    "WHERE \n",
    "```"
   ]
  },
  {
   "cell_type": "code",
   "execution_count": null,
   "metadata": {
    "collapsed": true
   },
   "outputs": [],
   "source": []
  }
 ],
 "metadata": {
  "kernelspec": {
   "display_name": "Python 2",
   "language": "python",
   "name": "python2"
  },
  "language_info": {
   "codemirror_mode": {
    "name": "ipython",
    "version": 2
   },
   "file_extension": ".py",
   "mimetype": "text/x-python",
   "name": "python",
   "nbconvert_exporter": "python",
   "pygments_lexer": "ipython2",
   "version": "2.7.12"
  }
 },
 "nbformat": 4,
 "nbformat_minor": 0
}
