{
 "cells": [
  {
   "cell_type": "markdown",
   "metadata": {},
   "source": [
    "## COCOMO Calculations\n",
    "We have estimated that the number of Delivered Source Instructions in the final application will be approximately $10000$.\n",
    "\n",
    "### Semidetached\n",
    "$$E = 3 * KDSI^{1.12} = 3 * 10^{1.12} = 39.55 \\text{ Man-Months}$$\n",
    "\n",
    "$$TDEV = 2.5*E^{0.35} = 2.5*39.55^{0.35} = 9.06 \\text{ Months}$$\n",
    "\n",
    "$$\\text{Productivity / MM} = \\frac{10000}{39.55} = 252.84 \\text{ DSI/MM}$$\n",
    "\n",
    "$$\\text{Average Staffing / Month} = \\frac{39.55}{9.06} = 4.37 \\rightarrow 5 \\text{ employees}$$\n",
    "\n",
    "### Detached\n",
    "$$E=3.6*KDSI^{1.2} = 3.6 * 10^{1.2} = 57.06 \\text{ MM}$$\n",
    "\n",
    "$$TDEV=2.5*E^{0.32} = 2.5*57.06^{0.32} = 9.12 \\text{ Months}$$\n",
    "\n",
    "$$\\text{Productivity / MM} = \\frac{10000}{57.06} = 175.25 \\text{ DSI/MM}$$\n",
    "\n",
    "$$\\text{Average Staffing / Month} = \\frac{57.06}{9.12} = 6.27 \\rightarrow 7 \\text{ people}$$\n",
    "\n",
    "### Salary Costs\n",
    "\n",
    "The average salary of a software engineer in Carbondale, Colorado is $99,390 (USD). Using this and the above COCOMO calculations, we can compute a range for the potential salary costs of the project.\n",
    "\n",
    "$$5 * 99390 * \\frac{9}{12} < \\text{Development Salary Costs} < 7 * 99390 * \\frac{9}{12}$$\n",
    "\n",
    "$$ \\$372712.5 < Salaries < \\$521797.5 $$"
   ]
  },
  {
   "cell_type": "markdown",
   "metadata": {
    "collapsed": true
   },
   "source": [
    "```JSON\n",
    "/api/inventory\n",
    "\n",
    "    GET: Return all inventory\n",
    "    \n",
    "    POST: Create a new item in inventory\n",
    "    \n",
    "\n",
    "```"
   ]
  },
  {
   "cell_type": "code",
   "execution_count": null,
   "metadata": {
    "collapsed": true
   },
   "outputs": [],
   "source": []
  }
 ],
 "metadata": {
  "kernelspec": {
   "display_name": "Python 2",
   "language": "python",
   "name": "python2"
  },
  "language_info": {
   "codemirror_mode": {
    "name": "ipython",
    "version": 2
   },
   "file_extension": ".py",
   "mimetype": "text/x-python",
   "name": "python",
   "nbconvert_exporter": "python",
   "pygments_lexer": "ipython2",
   "version": "2.7.12"
  }
 },
 "nbformat": 4,
 "nbformat_minor": 0
}
